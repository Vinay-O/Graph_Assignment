{
 "cells": [
  {
   "cell_type": "code",
   "execution_count": 5,
   "id": "1350c2cb",
   "metadata": {},
   "outputs": [
    {
     "name": "stdout",
     "output_type": "stream",
     "text": [
      "Breadth First Traversal (BFS):\n",
      "A B C D E F G "
     ]
    }
   ],
   "source": [
    "from collections import deque\n",
    "\n",
    "def bfs(graph, start):\n",
    "    visited = set()\n",
    "    queue = deque([start])\n",
    "    visited.add(start)\n",
    "\n",
    "    while queue:\n",
    "        node = queue.popleft()\n",
    "        print(node, end=' ')\n",
    "\n",
    "        for neighbor in graph[node]:\n",
    "            if neighbor not in visited:\n",
    "                queue.append(neighbor)\n",
    "                visited.add(neighbor)\n",
    "\n",
    "if __name__ == \"__main__\":\n",
    "    graph = {\n",
    "        \"A\": [\"B\", \"C\"],\n",
    "        \"B\": [\"D\", \"E\"],\n",
    "        \"C\": [\"F\", \"G\"],\n",
    "        \"D\": [],\n",
    "        \"E\": [],\n",
    "        \"F\": [],\n",
    "        \"G\": [],\n",
    "    }\n",
    "\n",
    "    print(\"Breadth First Traversal (BFS):\")\n",
    "    bfs(graph, \"A\")\n"
   ]
  },
  {
   "cell_type": "code",
   "execution_count": 4,
   "id": "e5966ff4",
   "metadata": {},
   "outputs": [
    {
     "name": "stdout",
     "output_type": "stream",
     "text": [
      "Depth First Traversal (DFS):\n",
      "A B D E C F G "
     ]
    }
   ],
   "source": [
    "def dfs(graph, start, visited=None):\n",
    "    if visited is None:\n",
    "        visited = set()\n",
    "\n",
    "    visited.add(start)\n",
    "    print(start, end=' ')\n",
    "\n",
    "    for neighbor in graph[start]:\n",
    "        if neighbor not in visited:\n",
    "            dfs(graph, neighbor, visited)\n",
    "\n",
    "if __name__ == \"__main__\":\n",
    "    graph = {\n",
    "        \"A\": [\"B\", \"C\"],\n",
    "        \"B\": [\"D\", \"E\"],\n",
    "        \"C\": [\"F\", \"G\"],\n",
    "        \"D\": [],\n",
    "        \"E\": [],\n",
    "        \"F\": [],\n",
    "        \"G\": [],\n",
    "    }\n",
    "\n",
    "    print(\"Depth First Traversal (DFS):\")\n",
    "    dfs(graph, \"A\")\n"
   ]
  },
  {
   "cell_type": "code",
   "execution_count": 6,
   "id": "6206a265",
   "metadata": {},
   "outputs": [
    {
     "name": "stdout",
     "output_type": "stream",
     "text": [
      "Number of nodes at level 2: 6\n"
     ]
    }
   ],
   "source": [
    "from collections import deque\n",
    "\n",
    "class TreeNode:\n",
    "    def __init__(self, value):\n",
    "        self.value = value\n",
    "        self.children = []\n",
    "\n",
    "def count_nodes_at_level(root, level):\n",
    "    if not root:\n",
    "        return 0\n",
    "    \n",
    "    queue = deque([(root, 0)])\n",
    "    count = 0\n",
    "\n",
    "    while queue:\n",
    "        node, current_level = queue.popleft()\n",
    "\n",
    "        if current_level == level:\n",
    "            count += 1\n",
    "        elif current_level > level:\n",
    "            break\n",
    "\n",
    "        for child in node.children:\n",
    "            queue.append((child, current_level + 1))\n",
    "\n",
    "    return count\n",
    "\n",
    "if __name__ == \"__main__\":\n",
    "    root = TreeNode(1)\n",
    "    root.children = [TreeNode(2), TreeNode(3), TreeNode(4)]\n",
    "    root.children[0].children = [TreeNode(5), TreeNode(6)]\n",
    "    root.children[1].children = [TreeNode(7)]\n",
    "    root.children[2].children = [TreeNode(8), TreeNode(9), TreeNode(10)]\n",
    "\n",
    "    level_to_count = 2\n",
    "    result = count_nodes_at_level(root, level_to_count)\n",
    "    print(f\"Number of nodes at level {level_to_count}: {result}\")\n"
   ]
  },
  {
   "cell_type": "code",
   "execution_count": 7,
   "id": "d2582779",
   "metadata": {},
   "outputs": [
    {
     "name": "stdout",
     "output_type": "stream",
     "text": [
      "Number of trees in the forest: 3\n"
     ]
    }
   ],
   "source": [
    "def count_trees_in_forest(adj_list):\n",
    "    def dfs(node):\n",
    "        visited.add(node)\n",
    "        for neighbor in adj_list[node]:\n",
    "            if neighbor not in visited:\n",
    "                dfs(neighbor)\n",
    "\n",
    "    trees_count = 0\n",
    "    visited = set()\n",
    "\n",
    "    for node in adj_list:\n",
    "        if node not in visited:\n",
    "            trees_count += 1\n",
    "            dfs(node)\n",
    "\n",
    "    return trees_count\n",
    "if __name__ == \"__main__\":\n",
    "    forest = {\n",
    "        1: [2, 3],\n",
    "        2: [1, 3],\n",
    "        3: [1, 2],\n",
    "        4: [5],\n",
    "        5: [4],\n",
    "        6: [],\n",
    "    }\n",
    "\n",
    "    result = count_trees_in_forest(forest)\n",
    "    print(\"Number of trees in the forest:\", result)\n"
   ]
  },
  {
   "cell_type": "code",
   "execution_count": 8,
   "id": "45886f1b",
   "metadata": {},
   "outputs": [
    {
     "name": "stdout",
     "output_type": "stream",
     "text": [
      "False\n"
     ]
    }
   ],
   "source": [
    "def detect_cycle(graph):\n",
    "\n",
    "  visited = set()\n",
    "  stack = []\n",
    "\n",
    "  for node in graph:\n",
    "    if node not in visited:\n",
    "      visited.add(node)\n",
    "      stack.append(node)\n",
    "      while stack:\n",
    "        curr_node = stack.pop()\n",
    "        for neighbor in graph[curr_node]:\n",
    "          if neighbor in visited:\n",
    "            if neighbor in stack:\n",
    "              return True\n",
    "          else:\n",
    "            visited.add(neighbor)\n",
    "            stack.append(neighbor)\n",
    "\n",
    "  return False\n",
    "\n",
    "\n",
    "if __name__ == \"__main__\":\n",
    "  graph = {\n",
    "    \"A\": [\"B\", \"C\"],\n",
    "    \"B\": [\"D\", \"E\"],\n",
    "    \"C\": [\"F\", \"G\"],\n",
    "    \"D\": [],\n",
    "    \"E\": [],\n",
    "    \"F\": [],\n",
    "    \"G\": [],\n",
    "  }\n",
    "\n",
    "  print(detect_cycle(graph))\n"
   ]
  },
  {
   "cell_type": "code",
   "execution_count": null,
   "id": "2c3284e2",
   "metadata": {},
   "outputs": [],
   "source": []
  }
 ],
 "metadata": {
  "kernelspec": {
   "display_name": "Python 3 (ipykernel)",
   "language": "python",
   "name": "python3"
  },
  "language_info": {
   "codemirror_mode": {
    "name": "ipython",
    "version": 3
   },
   "file_extension": ".py",
   "mimetype": "text/x-python",
   "name": "python",
   "nbconvert_exporter": "python",
   "pygments_lexer": "ipython3",
   "version": "3.10.9"
  }
 },
 "nbformat": 4,
 "nbformat_minor": 5
}
